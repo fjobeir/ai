{
  "nbformat": 4,
  "nbformat_minor": 0,
  "metadata": {
    "colab": {
      "provenance": []
    },
    "kernelspec": {
      "name": "python3",
      "display_name": "Python 3"
    },
    "language_info": {
      "name": "python"
    }
  },
  "cells": [
    {
      "cell_type": "code",
      "execution_count": null,
      "metadata": {
        "id": "pzsJpCkfmhEE"
      },
      "outputs": [],
      "source": [
        "import numpy as np\n",
        "import pandas as pd\n",
        "import scipy.stats as stats\n"
      ]
    },
    {
      "cell_type": "markdown",
      "source": [
        "# Z-Test\n",
        "\n",
        "---\n",
        "\n"
      ],
      "metadata": {
        "id": "gGgDKf32x9eT"
      }
    },
    {
      "cell_type": "code",
      "source": [
        "# Used when we want to compare the sample mean to the population mean\n",
        "def zValue(xBar, mu, sigma, n):\n",
        "    return (xBar - mu) / (sigma / np.sqrt(n))\n",
        "# Used if we want to detect the critical sample mean\n",
        "def xBar(z, mu, sigma, n):\n",
        "    return mu + z * (sigma / np.sqrt(n))\n",
        "\n",
        "# Used when we compare the mean of two samples\n",
        "def zTwoSample(xBar1, xBar2, sigma1, sigma2, n1, n2):\n",
        "    return (xBar1 - xBar2) / np.sqrt(sigma1**2 / n1 + sigma2**2 / n2)\n",
        "\n",
        "# Used when we compare propotions within a sample\n",
        "def zProp1(n, success, mean):\n",
        "  p = success / n\n",
        "  p0 = mean / n\n",
        "  return (p - p0) / np.sqrt(p0 * (1 - p0) / n)\n",
        "\n",
        "# Used when we compare propotions in two samples (number of successes)\n",
        "def zProp2(n1, success1, n2, success2):\n",
        "    pHat1 = success1 / n1\n",
        "    pHat2 = success2 / n2\n",
        "    pooled = (success1 + success2) / (n1 + n2)\n",
        "    se = np.sqrt(pooled * (1 - pooled) * (1/n1 + 1/n2))\n",
        "    return (pHat1 - pHat2) / se"
      ],
      "metadata": {
        "id": "nT_DJOjYmnHP"
      },
      "execution_count": null,
      "outputs": []
    },
    {
      "cell_type": "code",
      "source": [
        "z = zValue(1.85, 1.7, 0.5, 30)\n",
        "print(z)\n",
        "print(stats.norm.cdf(z))\n",
        "z_critical = stats.norm.ppf(0.98)\n",
        "\n",
        "print(f\"Critical Z-score for 96% confidence level: {z_critical}\")"
      ],
      "metadata": {
        "colab": {
          "base_uri": "https://localhost:8080/"
        },
        "id": "aWbi6cs3mtJR",
        "outputId": "c68dd74f-c94d-4990-8899-bd2547095cbf"
      },
      "execution_count": null,
      "outputs": [
        {
          "output_type": "stream",
          "name": "stdout",
          "text": [
            "1.6431676725155\n",
            "0.9498258767688548\n",
            "Critical Z-score for 96% confidence level: 2.0537489106318225\n"
          ]
        }
      ]
    },
    {
      "cell_type": "markdown",
      "source": [
        "# T-Test\n",
        "---\n",
        "\n"
      ],
      "metadata": {
        "id": "NHXhS44oyHVg"
      }
    },
    {
      "cell_type": "code",
      "source": [
        "# One sample T-Test\n",
        "def tValue(xBar, mu, sigma, n):\n",
        "    return (xBar - mu) / (sigma / np.sqrt(n))\n",
        "\n",
        "# OR stats.ttest_1sam(data, mean)\n",
        "\n",
        "# Two sample T-Test\n",
        "def tTwoSample(xBar1, xBar2, sigma1, sigma2, n1, n2):\n",
        "    pooled_variance =\n",
        "    return (xBar1 - xBar2) / np.sqrt(sigma1**2 / n1 + sigma2**2 / n2)\n",
        "# OR stats.ttest_ind()\n",
        "\n",
        "# Paired T-Test when we have two related samples: the weights of individuals before and after participating in the Zumba training."
      ],
      "metadata": {
        "id": "cdmAPjsxnY9G"
      },
      "execution_count": null,
      "outputs": []
    },
    {
      "cell_type": "code",
      "source": [
        "t_statistic, p_value = stats.ttest_1samp(\n",
        "    [177.3, 182.7, 169.6, 176.3, 180.3, 179.4, 178.5, 177.2, 181.8, 176.5],\n",
        "    175.3)\n",
        "print(t_statistic, p_value)"
      ],
      "metadata": {
        "colab": {
          "base_uri": "https://localhost:8080/"
        },
        "id": "9ODOA-UEf2kH",
        "outputId": "c509e4d1-31ce-4fa2-926e-4df62e4cb758"
      },
      "execution_count": null,
      "outputs": [
        {
          "output_type": "stream",
          "name": "stdout",
          "text": [
            "2.295568968083183 0.04734137339747034\n"
          ]
        }
      ]
    },
    {
      "cell_type": "code",
      "source": [
        "Brand_A = [19.60, 18.82, 19.00, 18.45, 19.79, 19.03, 17.89, 19.42]\n",
        "Brand_B = [21.10, 20.00, 20.43, 19.67, 18.99, 19.98, 20.14, 19.78]\n",
        "\n",
        "t_statistic, p_value = stats.ttest_ind(\n",
        "    b = Brand_A,\n",
        "    a = Brand_B,)\n",
        "print(t_statistic, p_value/2)\n"
      ],
      "metadata": {
        "colab": {
          "base_uri": "https://localhost:8080/"
        },
        "id": "UrwRC613blPa",
        "outputId": "bd8da218-6d69-4eb6-dace-e27adef29990"
      },
      "execution_count": null,
      "outputs": [
        {
          "output_type": "stream",
          "name": "stdout",
          "text": [
            "3.281024608464368 0.0027323808593455816\n"
          ]
        }
      ]
    },
    {
      "cell_type": "code",
      "source": [
        "t_statistic, p_value = stats.ttest_ind(\n",
        "    b = [13.3, 6.0, 20.0, 8.0, 14.0, 19.0, 18.0, 25.0, 16.0, 24.0, 15.0, 1.0, 15.0],\n",
        "    a = [22.0, 16.0, 21.7, 21.0, 30.0, 26.0, 12.0, 23.2, 28.0, 23.0],\n",
        "    equal_var=True,\n",
        "    alternative='less')\n",
        "print(t_statistic, p_value)"
      ],
      "metadata": {
        "colab": {
          "base_uri": "https://localhost:8080/"
        },
        "id": "wuwj10RBlfrx",
        "outputId": "ee48a3b6-afe1-4f35-a8a3-1b6ad2199620"
      },
      "execution_count": null,
      "outputs": [
        {
          "output_type": "stream",
          "name": "stdout",
          "text": [
            "2.799960442832919 0.005365303952098999\n"
          ]
        }
      ]
    },
    {
      "cell_type": "code",
      "source": [
        "t_statistic, p_value = stats.ttest_rel(\n",
        "    [85, 74, 63.5, 69.4, 71.6, 65,90,78],\n",
        "    [82, 71, 64, 65.2, 67.8, 64.7,95,77],\n",
        "    alternative='greater')\n",
        "print(t_statistic, p_value)"
      ],
      "metadata": {
        "colab": {
          "base_uri": "https://localhost:8080/"
        },
        "id": "tvVBJrDZpLgy",
        "outputId": "bcce1a48-b964-41cd-d59e-56779db54a9b"
      },
      "execution_count": null,
      "outputs": [
        {
          "output_type": "stream",
          "name": "stdout",
          "text": [
            "1.1421853793555032 0.14546808501326386\n"
          ]
        }
      ]
    },
    {
      "cell_type": "code",
      "source": [
        "z = zValue(3.5, 3, 0.8, 25)\n",
        "print(z)\n",
        "print(1-stats.norm.cdf(z))"
      ],
      "metadata": {
        "colab": {
          "base_uri": "https://localhost:8080/"
        },
        "id": "hZIzLhDKnSKr",
        "outputId": "fe427312-bab7-42c9-bbaf-718169725833"
      },
      "execution_count": null,
      "outputs": [
        {
          "output_type": "stream",
          "name": "stdout",
          "text": [
            "3.125\n",
            "0.0008890252991083925\n"
          ]
        }
      ]
    },
    {
      "cell_type": "code",
      "source": [],
      "metadata": {
        "colab": {
          "base_uri": "https://localhost:8080/"
        },
        "id": "qx2ZJK3KnnmV",
        "outputId": "df5edb4c-1f97-454b-a478-0ae9152a6c00"
      },
      "execution_count": null,
      "outputs": [
        {
          "output_type": "stream",
          "name": "stdout",
          "text": [
            "3.6335677938559874\n"
          ]
        }
      ]
    },
    {
      "cell_type": "code",
      "source": [
        "z = zTwoSample(2.87, 2.56, 1.08, 1.28, 150, 200)\n",
        "print(z)\n",
        "print(1 - stats.norm.cdf(z))"
      ],
      "metadata": {
        "colab": {
          "base_uri": "https://localhost:8080/"
        },
        "id": "-kUblbhH1ob2",
        "outputId": "c9f860d8-e76b-4c11-9cf4-695bb3c216cf"
      },
      "execution_count": null,
      "outputs": [
        {
          "output_type": "stream",
          "name": "stdout",
          "text": [
            "2.453219634102559\n",
            "0.007079193063952549\n"
          ]
        }
      ]
    },
    {
      "cell_type": "code",
      "source": [
        "z = zProp1(750, 495, 750*0.6)\n",
        "print(z)\n",
        "print((1-stats.norm.cdf(z)))"
      ],
      "metadata": {
        "id": "6EA2ZlFe7Nm6",
        "colab": {
          "base_uri": "https://localhost:8080/"
        },
        "outputId": "fd68867f-7929-4853-81ac-8eb3c40d032c"
      },
      "execution_count": null,
      "outputs": [
        {
          "output_type": "stream",
          "name": "stdout",
          "text": [
            "3.354101966249688\n",
            "0.0003981150787953913\n"
          ]
        }
      ]
    },
    {
      "cell_type": "code",
      "source": [
        "z = zProp2(195, 41, 605, 351)\n",
        "print(z)"
      ],
      "metadata": {
        "colab": {
          "base_uri": "https://localhost:8080/"
        },
        "id": "zdC_hREmTIFW",
        "outputId": "f05fe132-676c-4278-9bbb-fa8d0269ced1"
      },
      "execution_count": null,
      "outputs": [
        {
          "output_type": "stream",
          "name": "stdout",
          "text": [
            "-8.985900954503084\n"
          ]
        }
      ]
    },
    {
      "cell_type": "code",
      "source": [
        "print(2 * stats.norm.cdf(z))"
      ],
      "metadata": {
        "colab": {
          "base_uri": "https://localhost:8080/"
        },
        "id": "irP3Cr_bWDbu",
        "outputId": "d10df14a-c811-4dd5-a641-967fe1c2aba7"
      },
      "execution_count": null,
      "outputs": [
        {
          "output_type": "stream",
          "name": "stdout",
          "text": [
            "2.566230446480293e-19\n"
          ]
        }
      ]
    },
    {
      "cell_type": "code",
      "source": [
        "z = zTwoSample(120, 110, 15, 12, 30, 35)\n",
        "print(z)\n",
        "print(2 * (1- stats.norm.cdf(z)))"
      ],
      "metadata": {
        "colab": {
          "base_uri": "https://localhost:8080/"
        },
        "id": "ZhY0gJCaf_Kg",
        "outputId": "74f43391-7aa3-4b36-a43b-0a1c213e0dbe"
      },
      "execution_count": null,
      "outputs": [
        {
          "output_type": "stream",
          "name": "stdout",
          "text": [
            "2.9342948217350298\n",
            "0.003343064983343025\n"
          ]
        }
      ]
    },
    {
      "cell_type": "code",
      "source": [
        "z = zProp1(100, 65, 70)"
      ],
      "metadata": {
        "id": "2yQae2nDgSl9"
      },
      "execution_count": null,
      "outputs": []
    },
    {
      "cell_type": "code",
      "source": [
        "z"
      ],
      "metadata": {
        "colab": {
          "base_uri": "https://localhost:8080/"
        },
        "id": "Nuk_t8bWplcP",
        "outputId": "c8157d23-3350-4a70-efee-5a6de0c58aed"
      },
      "execution_count": null,
      "outputs": [
        {
          "output_type": "execute_result",
          "data": {
            "text/plain": [
              "-1.0910894511799603"
            ]
          },
          "metadata": {},
          "execution_count": 35
        }
      ]
    },
    {
      "cell_type": "code",
      "source": [
        "1 - stats.norm.cdf(z)"
      ],
      "metadata": {
        "colab": {
          "base_uri": "https://localhost:8080/"
        },
        "id": "cnWDBYRvpl8o",
        "outputId": "5fb95d43-2a8e-4374-82c6-2621247276f3"
      },
      "execution_count": null,
      "outputs": [
        {
          "output_type": "execute_result",
          "data": {
            "text/plain": [
              "0.8623832379625824"
            ]
          },
          "metadata": {},
          "execution_count": 37
        }
      ]
    },
    {
      "cell_type": "code",
      "source": [],
      "metadata": {
        "id": "jKfVxt5RpoSy"
      },
      "execution_count": null,
      "outputs": []
    },
    {
      "cell_type": "markdown",
      "source": [
        "# Chi-squared"
      ],
      "metadata": {
        "id": "P6U3YCqFxaqu"
      }
    },
    {
      "cell_type": "markdown",
      "source": [
        "### Chi-Squared Test of Independence\n",
        "**Function**: `scipy.stats.chi2_contingency`\n",
        "\n",
        "**Usage**: This function is used to test the independence of two categorical variables in a contingency table."
      ],
      "metadata": {
        "id": "Bwwg5anPxn51"
      }
    },
    {
      "cell_type": "code",
      "source": [
        "statistic, pvalue, dof, expected_freq = stats.chi2_contingency([\n",
        "    [335,348, 318],\n",
        "    [35, 23, 50],\n",
        "])\n",
        "print(statistic, pvalue)"
      ],
      "metadata": {
        "colab": {
          "base_uri": "https://localhost:8080/"
        },
        "id": "YKABj0RsyC6N",
        "outputId": "3fef3168-cd14-41e8-8dc5-0784c5d7cb02"
      },
      "execution_count": null,
      "outputs": [
        {
          "output_type": "stream",
          "name": "stdout",
          "text": [
            "11.519544916042339 0.003151828690194211\n"
          ]
        }
      ]
    },
    {
      "cell_type": "markdown",
      "source": [
        "### Chi-Squared Goodness of Fit Test\n",
        "**Function**: `scipy.stats.chisquare`\n",
        "\n",
        "**Usage**: This function is used to test if a sample data fits a specific distribution."
      ],
      "metadata": {
        "id": "bi4BZfAvx3p0"
      }
    },
    {
      "cell_type": "code",
      "source": [
        "stats.chisquare(f_obs = [45, 50,55], f_exp = [45,60,45])"
      ],
      "metadata": {
        "colab": {
          "base_uri": "https://localhost:8080/"
        },
        "id": "gs1Q4S5dxZ2p",
        "outputId": "558caaa6-2f5a-4693-f3e9-68f6c5e75bd6"
      },
      "execution_count": null,
      "outputs": [
        {
          "output_type": "execute_result",
          "data": {
            "text/plain": [
              "Power_divergenceResult(statistic=3.8888888888888893, pvalue=0.1430666827544082)"
            ]
          },
          "metadata": {},
          "execution_count": 12
        }
      ]
    },
    {
      "cell_type": "code",
      "source": [],
      "metadata": {
        "id": "Anh78Ep70u6s"
      },
      "execution_count": null,
      "outputs": []
    },
    {
      "cell_type": "markdown",
      "source": [
        "# ANOVA\n",
        "\n"
      ],
      "metadata": {
        "id": "rRjzAlvlQa7G"
      }
    },
    {
      "cell_type": "markdown",
      "source": [
        "This test helps determine whether there are statistically significant differences between the means of three or more independent (unrelated) groups.\n",
        "\n",
        "\n",
        "### Levene's Test and Bartlett's Test:\n",
        "\n",
        "`f_statistic, p_value = stats.levene([...])`\n",
        "\n",
        "`f_statistic, p_value = stats.bartlett([...])`\n",
        "\n",
        "**Purpose**: These tests specifically assess whether the variances of two or more groups are equal. They are designed to test the homogeneity of variances (homoscedasticity).\n",
        "\n",
        "**Levene's Test**: It is more robust to deviations from normality and is often preferred when the normality assumption may not hold.\n",
        "\n",
        "**Bartlett's Test**: It assumes normal distributions and is more sensitive to departures from normality. It is best used when the data is approximately normally distributed.\n",
        "\n",
        "### ANOVA (f_oneway):\n",
        "\n",
        "`f_statistic, p_value = stats.f_oneway([...])`\n",
        "\n",
        "**Purpose**: The one-way ANOVA test is used to assess whether there are significant differences between the means of two or more groups. It implicitly assumes that the variances of the groups are equal (homoscedasticity) as one of its assumptions.\n",
        "\n",
        "**Variance Testing**: ANOVA does not test for equality of variances directly; instead, it tests for differences in means while assuming that variances are equal. If the variances are not equal, the ANOVA results might be unreliable.\n",
        "\n",
        "## Test Steps:\n",
        "\n",
        "**a. Independence of Observations**\n",
        "This is generally ensured by the study design and random sampling. No formal test is usually applied.\n",
        "\n",
        "**b. Normality**\n",
        "You can check if each group's data is approximately normally distributed using visual methods (like Q-Q plots) or statistical tests (like the Shapiro-Wilk test).\n",
        "\n",
        "`_, p_value_A = stats.shapiro()`\n",
        "\n",
        "**c. Homogeneity of Variances**\n",
        "You can use Levene's test or Bartlett's test to check if the variances across the groups are equal.\n",
        "\n",
        "If the assumptions are met, proceed with ANOVA. Otherwise, you should consider alternative approaches or modifications to ensure valid statistical analysis. Something like data transformation or kruskal test\n",
        "\n",
        "`stats.kruskal([...])`"
      ],
      "metadata": {
        "id": "RpCY0wfu2OGe"
      }
    },
    {
      "cell_type": "code",
      "source": [
        "cars = [19.9, 15.3, 2.2, 6.8, 34.2, 8.3, 12.0, 7.0, 9.5, 1.1]\n",
        "buses = [1.8, 24.6, 7.2, 37.0, 7.2, 21.2, 6.5, 23.6]\n",
        "trucks = [13.3, 23.0, 25.4, 15.3, 57.1, 14.5, 26.0]\n",
        "\n",
        "_, p_value = stats.f_oneway(cars, buses, trucks)\n",
        "print(p_value)"
      ],
      "metadata": {
        "colab": {
          "base_uri": "https://localhost:8080/"
        },
        "id": "6ibOTcDnAZVT",
        "outputId": "69540b58-4523-43da-96e5-a63162bdd970"
      },
      "execution_count": null,
      "outputs": [
        {
          "output_type": "stream",
          "name": "stdout",
          "text": [
            "0.10782985675757563\n"
          ]
        }
      ]
    },
    {
      "cell_type": "code",
      "source": [],
      "metadata": {
        "id": "vjh0dPxb1ITb"
      },
      "execution_count": null,
      "outputs": []
    }
  ]
}